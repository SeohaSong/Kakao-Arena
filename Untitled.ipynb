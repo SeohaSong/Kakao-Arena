{
 "cells": [
  {
   "cell_type": "code",
   "execution_count": 17,
   "metadata": {},
   "outputs": [],
   "source": [
    "import json\n",
    "import h5py\n",
    "from pprint import pprint"
   ]
  },
  {
   "cell_type": "code",
   "execution_count": 24,
   "metadata": {},
   "outputs": [],
   "source": [
    "with open('./cate1.json', encoding='utf-8') as f:\n",
    "    category_dic = json.load(f)\n",
    "\n",
    "tr_data = h5py.File('./train.chunk.01')\n",
    "de_data = h5py.File('./dev.chunk.01')"
   ]
  },
  {
   "cell_type": "code",
   "execution_count": 13,
   "metadata": {},
   "outputs": [],
   "source": [
    "def inspect_data(data):\n",
    "    \n",
    "    type_ = list(data)[0]\n",
    "    \n",
    "    print(list(data))\n",
    "    print(list(data[type_]))\n",
    "    instance = {}\n",
    "    for key in data[type_]:\n",
    "        val = data[type_][key][0]\n",
    "        if not val.shape and type(val.item()) == bytes:\n",
    "            instance.update({key: val.decode('utf-8')})\n",
    "        else:\n",
    "            instance.update({key: val})\n",
    "    pprint(instance)"
   ]
  },
  {
   "cell_type": "code",
   "execution_count": 14,
   "metadata": {},
   "outputs": [
    {
     "name": "stdout",
     "output_type": "stream",
     "text": [
      "b 57\n",
      "{'가공식품/과자/초콜릿': 27, '가방/지갑/잡화': 14, '거실/주방가구': 36, '건강관리/실버용품': 10}\n",
      "m 552\n",
      "{'CPU': 421, 'DVD/DivX/블루레이': 319, 'DVD/음반': 465, 'GPS단말기': 485}\n",
      "s 3190\n",
      "{'': -1, '1단계분유': 1980, '2.5형 이하 HDD': 382, '2단계분유': 1550}\n",
      "d 404\n",
      "{'': -1, '11 - 15형': 327, '16 - 20형': 309, '2.1채널 스피커': 106}\n"
     ]
    }
   ],
   "source": [
    "for type_ in 'bmsd':\n",
    "    name2id = category_dic[type_]\n",
    "    print(type_, len(name2id))\n",
    "    name2id = {name: name2id[name] for name in sorted(name2id)[:4]}\n",
    "    pprint(name2id)"
   ]
  },
  {
   "cell_type": "code",
   "execution_count": 15,
   "metadata": {},
   "outputs": [
    {
     "name": "stdout",
     "output_type": "stream",
     "text": [
      "['train']\n",
      "['bcateid', 'brand', 'dcateid', 'img_feat', 'maker', 'mcateid', 'model', 'pid', 'price', 'product', 'scateid', 'updttm']\n",
      "{'bcateid': 1,\n",
      " 'brand': '퍼즐라이프',\n",
      " 'dcateid': -1,\n",
      " 'img_feat': array([0.75723773, 0.8849334 , 0.0776659 , ..., 0.        , 1.0283663 ,\n",
      "       0.0683253 ], dtype=float32),\n",
      " 'maker': '상품상세설명 참조',\n",
      " 'mcateid': 1,\n",
      " 'model': '퍼즐라이프 직소퍼즐 바다거북의 여행',\n",
      " 'pid': 'O4486751463',\n",
      " 'price': 16520,\n",
      " 'product': '직소퍼즐 - 1000조각 바다거북의 여행 (PL1275)',\n",
      " 'scateid': 2,\n",
      " 'updttm': '20180227091029'}\n"
     ]
    }
   ],
   "source": [
    "inspect_data(tr_data)"
   ]
  },
  {
   "cell_type": "code",
   "execution_count": 16,
   "metadata": {},
   "outputs": [
    {
     "name": "stdout",
     "output_type": "stream",
     "text": [
      "['dev']\n",
      "['bcateid', 'brand', 'dcateid', 'img_feat', 'maker', 'mcateid', 'model', 'pid', 'price', 'product', 'scateid', 'updttm']\n",
      "{'bcateid': -1,\n",
      " 'brand': '기가바이트',\n",
      " 'dcateid': -1,\n",
      " 'img_feat': array([0.09676117, 0.24121004, 0.02011008, ..., 0.09604061, 0.42701417,\n",
      "       0.01047285], dtype=float32),\n",
      " 'maker': 'GIGABYTE',\n",
      " 'mcateid': -1,\n",
      " 'model': '기가바이트 GB-BACE-3160 2GB, 500GB',\n",
      " 'pid': 'H2829766805',\n",
      " 'price': 267440,\n",
      " 'product': 'GIGABYTE 미니PC GB-BACE-3160 (램 4G+HDD 500GB) w',\n",
      " 'scateid': -1,\n",
      " 'updttm': '20180429194709'}\n"
     ]
    }
   ],
   "source": [
    "inspect_data(de_data)"
   ]
  },
  {
   "cell_type": "code",
   "execution_count": null,
   "metadata": {},
   "outputs": [],
   "source": []
  }
 ],
 "metadata": {
  "kernelspec": {
   "display_name": "Python 3",
   "language": "python",
   "name": "python3"
  },
  "language_info": {
   "codemirror_mode": {
    "name": "ipython",
    "version": 3
   },
   "file_extension": ".py",
   "mimetype": "text/x-python",
   "name": "python",
   "nbconvert_exporter": "python",
   "pygments_lexer": "ipython3",
   "version": "3.6.5"
  }
 },
 "nbformat": 4,
 "nbformat_minor": 2
}
